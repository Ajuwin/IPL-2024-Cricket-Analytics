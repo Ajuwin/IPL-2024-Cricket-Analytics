{
 "cells": [
  {
   "cell_type": "code",
   "execution_count": 1,
   "id": "ae217f4c-b5cd-4499-b18e-566eb2de1d72",
   "metadata": {},
   "outputs": [],
   "source": [
    "from pyspark.sql import SparkSession"
   ]
  },
  {
   "cell_type": "code",
   "execution_count": 2,
   "id": "6fdd5887-9e6a-4742-b823-75af6ebfda55",
   "metadata": {},
   "outputs": [],
   "source": [
    "from pyspark.sql.types import StructField, StructType, IntegerType, StringType, DateType, FloatType"
   ]
  },
  {
   "cell_type": "code",
   "execution_count": 3,
   "id": "07bc6f08-62ad-45b7-9d4a-63aac8db8b3f",
   "metadata": {},
   "outputs": [],
   "source": [
    "from pyspark.sql.functions import col,sum, count, avg, round as F_round, countDistinct, least, greatest, when, concat_ws, \\\n",
    "    array, explode, collect_list, dense_rank"
   ]
  },
  {
   "cell_type": "code",
   "execution_count": 4,
   "id": "12964f13-be2b-4066-9b88-e4384e4397da",
   "metadata": {},
   "outputs": [],
   "source": [
    "from pyspark.sql import Window"
   ]
  },
  {
   "cell_type": "code",
   "execution_count": 5,
   "id": "9195054d-2c92-4600-a0b3-d52cec38fc81",
   "metadata": {},
   "outputs": [
    {
     "name": "stderr",
     "output_type": "stream",
     "text": [
      "25/02/24 23:25:00 WARN Utils: Your hostname, dev resolves to a loopback address: 127.0.1.1; using 192.168.250.87 instead (on interface wlp1s0)\n",
      "25/02/24 23:25:00 WARN Utils: Set SPARK_LOCAL_IP if you need to bind to another address\n",
      "Setting default log level to \"WARN\".\n",
      "To adjust logging level use sc.setLogLevel(newLevel). For SparkR, use setLogLevel(newLevel).\n",
      "25/02/24 23:25:01 WARN NativeCodeLoader: Unable to load native-hadoop library for your platform... using builtin-java classes where applicable\n"
     ]
    }
   ],
   "source": [
    "spark = (\n",
    "    SparkSession.builder\n",
    "    .master(\"local[*]\")\n",
    "    .appName(\"ipl_2024_data_analysis\")\n",
    "    .getOrCreate()\n",
    ")"
   ]
  },
  {
   "cell_type": "code",
   "execution_count": 6,
   "id": "cf172176-b11d-4667-b597-98d6f7e63a40",
   "metadata": {},
   "outputs": [
    {
     "data": {
      "text/html": [
       "\n",
       "            <div>\n",
       "                <p><b>SparkSession - in-memory</b></p>\n",
       "                \n",
       "        <div>\n",
       "            <p><b>SparkContext</b></p>\n",
       "\n",
       "            <p><a href=\"http://192.168.250.87:4040\">Spark UI</a></p>\n",
       "\n",
       "            <dl>\n",
       "              <dt>Version</dt>\n",
       "                <dd><code>v3.5.1</code></dd>\n",
       "              <dt>Master</dt>\n",
       "                <dd><code>local[*]</code></dd>\n",
       "              <dt>AppName</dt>\n",
       "                <dd><code>ipl_2024_data_analysis</code></dd>\n",
       "            </dl>\n",
       "        </div>\n",
       "        \n",
       "            </div>\n",
       "        "
      ],
      "text/plain": [
       "<pyspark.sql.session.SparkSession at 0x727ecc5bca40>"
      ]
     },
     "execution_count": 6,
     "metadata": {},
     "output_type": "execute_result"
    }
   ],
   "source": [
    "spark"
   ]
  },
  {
   "cell_type": "code",
   "execution_count": 7,
   "id": "2f5b0840-0cef-40a0-ae7c-2d2418b6c0b5",
   "metadata": {},
   "outputs": [],
   "source": [
    "# file paths\n",
    "\n",
    "ball_by_ball_path = \"hdfs://localhost:9000/data/ipl_2024/ball_by_ball.csv\"\n",
    "matches_path = \"hdfs://localhost:9000/data/ipl_2024/matches.csv\""
   ]
  },
  {
   "cell_type": "code",
   "execution_count": 8,
   "id": "7c07ce14-13e3-4980-b449-a5aeaf445540",
   "metadata": {},
   "outputs": [],
   "source": [
    "# Ball by Ball Schema\n",
    "\n",
    "ball_by_ball_schema = StructType([\n",
    "    StructField(\"match_id\", StringType(), True),\n",
    "    StructField(\"season\", IntegerType(), True),\n",
    "    StructField(\"match_no\", IntegerType(), True),\n",
    "    StructField(\"date\", DateType(), True),\n",
    "    StructField(\"venue\", StringType(), True),\n",
    "    StructField(\"batting_team\", StringType(), True),\n",
    "    StructField(\"bowling_team\", StringType(), True),\n",
    "    StructField(\"innings\", IntegerType(), True),\n",
    "    StructField(\"over\", FloatType(), True),\n",
    "    StructField(\"striker\", StringType(), True),\n",
    "    StructField(\"non_striker\", StringType(), True),\n",
    "    StructField(\"bowler\", StringType(), True),\n",
    "    StructField(\"runs_of_bat\", IntegerType(), True),\n",
    "    StructField(\"extras\", IntegerType(), True),\n",
    "    StructField(\"wide\", IntegerType(), True),\n",
    "    StructField(\"legbyes\", IntegerType(), True),\n",
    "    StructField(\"byes\", IntegerType(), True),\n",
    "    StructField(\"noballs\", IntegerType(), True),\n",
    "    StructField(\"wicket_type\", StringType(), True),\n",
    "    StructField(\"player_dismissed\", StringType(), True),\n",
    "    StructField(\"fielder\", StringType(), True)\n",
    "])"
   ]
  },
  {
   "cell_type": "code",
   "execution_count": 9,
   "id": "1f8ff841-7866-4b31-bbfa-c2ee01671545",
   "metadata": {},
   "outputs": [],
   "source": [
    "# Create ball_by_ball dataframe\n",
    "\n",
    "ball_by_ball_df = spark.read.schema(ball_by_ball_schema).format(\"csv\").option(\"header\", \"true\").load(ball_by_ball_path)"
   ]
  },
  {
   "cell_type": "code",
   "execution_count": 10,
   "id": "966b4f27-92bb-4b55-9e1d-7a8da5006205",
   "metadata": {},
   "outputs": [
    {
     "name": "stdout",
     "output_type": "stream",
     "text": [
      "-RECORD 0-------------------------------------------------------------\n",
      " match_id         | 202401                                            \n",
      " season           | 2024                                              \n",
      " match_no         | 1                                                 \n",
      " date             | 2024-03-22                                        \n",
      " venue            | MA Chidambaram Stadium, Chepauk, Chennai, Chennai \n",
      " batting_team     | RCB                                               \n",
      " bowling_team     | CSK                                               \n",
      " innings          | 1                                                 \n",
      " over             | 0.1                                               \n",
      " striker          | V Kohli                                           \n",
      " non_striker      | F du Plessis                                      \n",
      " bowler           | DL Chahar                                         \n",
      " runs_of_bat      | 0                                                 \n",
      " extras           | 1                                                 \n",
      " wide             | 1                                                 \n",
      " legbyes          | 0                                                 \n",
      " byes             | 0                                                 \n",
      " noballs          | 0                                                 \n",
      " wicket_type      | NULL                                              \n",
      " player_dismissed | NULL                                              \n",
      " fielder          | NULL                                              \n",
      "only showing top 1 row\n",
      "\n"
     ]
    }
   ],
   "source": [
    "ball_by_ball_df.show(1,truncate=False, vertical=True)"
   ]
  },
  {
   "cell_type": "code",
   "execution_count": 11,
   "id": "cce027b7-fb91-4e2b-bd2a-9dc478af3cd7",
   "metadata": {},
   "outputs": [
    {
     "name": "stdout",
     "output_type": "stream",
     "text": [
      "root\n",
      " |-- match_id: string (nullable = true)\n",
      " |-- season: integer (nullable = true)\n",
      " |-- match_no: integer (nullable = true)\n",
      " |-- date: date (nullable = true)\n",
      " |-- venue: string (nullable = true)\n",
      " |-- batting_team: string (nullable = true)\n",
      " |-- bowling_team: string (nullable = true)\n",
      " |-- innings: integer (nullable = true)\n",
      " |-- over: float (nullable = true)\n",
      " |-- striker: string (nullable = true)\n",
      " |-- non_striker: string (nullable = true)\n",
      " |-- bowler: string (nullable = true)\n",
      " |-- runs_of_bat: integer (nullable = true)\n",
      " |-- extras: integer (nullable = true)\n",
      " |-- wide: integer (nullable = true)\n",
      " |-- legbyes: integer (nullable = true)\n",
      " |-- byes: integer (nullable = true)\n",
      " |-- noballs: integer (nullable = true)\n",
      " |-- wicket_type: string (nullable = true)\n",
      " |-- player_dismissed: string (nullable = true)\n",
      " |-- fielder: string (nullable = true)\n",
      "\n"
     ]
    }
   ],
   "source": [
    "ball_by_ball_df.printSchema()"
   ]
  },
  {
   "cell_type": "code",
   "execution_count": 12,
   "id": "f06d9bee-4974-408c-8bf8-9e595bd322ea",
   "metadata": {},
   "outputs": [
    {
     "name": "stdout",
     "output_type": "stream",
     "text": [
      "-RECORD 0-------------------------------------------------------------\n",
      " match_id         | 202401                                            \n",
      " season           | 2024                                              \n",
      " match_no         | 1                                                 \n",
      " date             | 2024-03-22                                        \n",
      " venue            | MA Chidambaram Stadium, Chepauk, Chennai, Chennai \n",
      " batting_team     | RCB                                               \n",
      " bowling_team     | CSK                                               \n",
      " innings          | 1                                                 \n",
      " over             | 0.1                                               \n",
      " striker          | V Kohli                                           \n",
      " non_striker      | F du Plessis                                      \n",
      " bowler           | DL Chahar                                         \n",
      " runs_of_bat      | 0                                                 \n",
      " extras           | 1                                                 \n",
      " wide             | 1                                                 \n",
      " legbyes          | 0                                                 \n",
      " byes             | 0                                                 \n",
      " noballs          | 0                                                 \n",
      " wicket_type      | NULL                                              \n",
      " player_dismissed | NULL                                              \n",
      " fielder          | NULL                                              \n",
      " total_runs       | 1                                                 \n",
      "only showing top 1 row\n",
      "\n"
     ]
    }
   ],
   "source": [
    "ball_by_ball_df = ball_by_ball_df.withColumn(\"total_runs\", col(\"runs_of_bat\") + col(\"extras\"))\n",
    "ball_by_ball_df.show(1, truncate=False, vertical=True)"
   ]
  },
  {
   "cell_type": "code",
   "execution_count": 13,
   "id": "7c103993-6067-4250-ad54-a5bb861d5ab3",
   "metadata": {},
   "outputs": [],
   "source": [
    "# Matches Schema\n",
    "\n",
    "match_schema = StructType([\n",
    "    StructField(\"match_id\", StringType(), True),\n",
    "    StructField(\"season\", IntegerType(), True),\n",
    "    StructField(\"date\", DateType(), True),\n",
    "    StructField(\"match_no\", IntegerType(), True),\n",
    "    StructField(\"venue\", StringType(), True),\n",
    "    StructField(\"city\", StringType(), True),\n",
    "    StructField(\"team1\", StringType(), True),\n",
    "    StructField(\"team2\", StringType(), True),\n",
    "    StructField(\"toss_winner\", StringType(), True),\n",
    "    StructField(\"toss_decision\", StringType(), True),\n",
    "    StructField(\"innings1_score\", StringType(), True),\n",
    "    StructField(\"innings1_wickets\", StringType(), True),\n",
    "    StructField(\"innings2_score\", StringType(), True),\n",
    "    StructField(\"innings2_wickets\", StringType(), True),\n",
    "    StructField(\"winning_team\", StringType(), True),\n",
    "    StructField(\"margin\", StringType(), True),\n",
    "    StructField(\"won_by\", StringType(), True),\n",
    "    StructField(\"player_of_the_match\", StringType(), True),\n",
    "    StructField(\"team1_players\", StringType(), True),\n",
    "    StructField(\"team2_players\", StringType(), True),\n",
    "    StructField(\"umpire1\", StringType(), True),\n",
    "    StructField(\"umpire2\", StringType(), True),\n",
    "    StructField(\"umpire3\", StringType(), True)\n",
    "])"
   ]
  },
  {
   "cell_type": "code",
   "execution_count": 14,
   "id": "c95ae300-c1be-4812-866d-3adaeb88e1e5",
   "metadata": {},
   "outputs": [],
   "source": [
    "match_df = spark.read.schema(match_schema).format(\"csv\").option(\"header\", \"true\").load(matches_path)"
   ]
  },
  {
   "cell_type": "code",
   "execution_count": 15,
   "id": "7cfef913-0012-4e12-bda1-c304901a127b",
   "metadata": {},
   "outputs": [
    {
     "name": "stdout",
     "output_type": "stream",
     "text": [
      "-RECORD 0------------------------------------------------------------------------------------------------------------------------------------------------------------------\n",
      " match_id            | 202401                                                                                                                                              \n",
      " season              | 2024                                                                                                                                                \n",
      " date                | 2024-03-22                                                                                                                                          \n",
      " match_no            | 1                                                                                                                                                   \n",
      " venue               | MA Chidambaram Stadium, Chepauk, Chennai                                                                                                            \n",
      " city                | Chennai                                                                                                                                             \n",
      " team1               | RCB                                                                                                                                                 \n",
      " team2               | CSK                                                                                                                                                 \n",
      " toss_winner         | RCB                                                                                                                                                 \n",
      " toss_decision       | bat                                                                                                                                                 \n",
      " innings1_score      | 173.0                                                                                                                                               \n",
      " innings1_wickets    | 6.0                                                                                                                                                 \n",
      " innings2_score      | 176.0                                                                                                                                               \n",
      " innings2_wickets    | 4.0                                                                                                                                                 \n",
      " winning_team        | CSK                                                                                                                                                 \n",
      " margin              | 6.0                                                                                                                                                 \n",
      " won_by              | wickets                                                                                                                                             \n",
      " player_of_the_match | Mustafizur Rahman                                                                                                                                   \n",
      " team1_players       | V Kohli, F du Plessis, RM Patidar, GJ Maxwell, C Green, Anuj Rawat, KD Karthik, KV Sharma, AS Joseph, Mayank Dagar, Mohammed Siraj, Yash Dayal      \n",
      " team2_players       | RD Gaikwad, R Ravindra, AM Rahane, DJ Mitchell, S Dube, RA Jadeja, Sameer Rizvi, MS Dhoni, DL Chahar, M Theekshana, TU Deshpande, Mustafizur Rahman \n",
      " umpire1             | HAS Khalid                                                                                                                                          \n",
      " umpire2             | VK Sharma                                                                                                                                           \n",
      " umpire3             | Nitin Menon                                                                                                                                         \n",
      "only showing top 1 row\n",
      "\n"
     ]
    }
   ],
   "source": [
    "match_df.show(1,truncate=False, vertical=True)"
   ]
  },
  {
   "cell_type": "code",
   "execution_count": 16,
   "id": "71612d49-949b-420e-b2a8-a6bc20817b5e",
   "metadata": {},
   "outputs": [
    {
     "name": "stdout",
     "output_type": "stream",
     "text": [
      "root\n",
      " |-- match_id: string (nullable = true)\n",
      " |-- season: integer (nullable = true)\n",
      " |-- date: date (nullable = true)\n",
      " |-- match_no: integer (nullable = true)\n",
      " |-- venue: string (nullable = true)\n",
      " |-- city: string (nullable = true)\n",
      " |-- team1: string (nullable = true)\n",
      " |-- team2: string (nullable = true)\n",
      " |-- toss_winner: string (nullable = true)\n",
      " |-- toss_decision: string (nullable = true)\n",
      " |-- innings1_score: string (nullable = true)\n",
      " |-- innings1_wickets: string (nullable = true)\n",
      " |-- innings2_score: string (nullable = true)\n",
      " |-- innings2_wickets: string (nullable = true)\n",
      " |-- winning_team: string (nullable = true)\n",
      " |-- margin: string (nullable = true)\n",
      " |-- won_by: string (nullable = true)\n",
      " |-- player_of_the_match: string (nullable = true)\n",
      " |-- team1_players: string (nullable = true)\n",
      " |-- team2_players: string (nullable = true)\n",
      " |-- umpire1: string (nullable = true)\n",
      " |-- umpire2: string (nullable = true)\n",
      " |-- umpire3: string (nullable = true)\n",
      "\n"
     ]
    }
   ],
   "source": [
    "match_df.printSchema()"
   ]
  },
  {
   "cell_type": "code",
   "execution_count": 17,
   "id": "878e4ddc-77c0-408c-a22e-27d8dc140090",
   "metadata": {},
   "outputs": [
    {
     "data": {
      "text/plain": [
       "74"
      ]
     },
     "execution_count": 17,
     "metadata": {},
     "output_type": "execute_result"
    }
   ],
   "source": [
    "# Total number of matches played in 2024\n",
    "\n",
    "total_matches = match_df.count()\n",
    "total_matches"
   ]
  },
  {
   "cell_type": "code",
   "execution_count": 18,
   "id": "503909ef-c865-4593-b95e-8186b00993e2",
   "metadata": {},
   "outputs": [
    {
     "name": "stdout",
     "output_type": "stream",
     "text": [
      "+---------------------------------------------------------------------+\n",
      "|venue                                                                |\n",
      "+---------------------------------------------------------------------+\n",
      "|M Chinnaswamy Stadium, Bengaluru                                     |\n",
      "|Rajiv Gandhi International Stadium, Hyderabad                        |\n",
      "|Arun Jaitley Stadium, Delhi                                          |\n",
      "|Sawai Mansingh Stadium, Jaipur                                       |\n",
      "|Bharat Ratna Shri Atal Bihari Vajpayee Ekana Cricket Stadium, Lucknow|\n",
      "|Wankhede Stadium, Mumbai                                             |\n",
      "|Himachal Pradesh Cricket Association Stadium, Dharamsala             |\n",
      "|Rajiv Gandhi International Stadium, Uppal, Hyderabad                 |\n",
      "|Dr. Y.S. Rajasekhara Reddy ACA-VDCA Cricket Stadium, Visakhapatnam   |\n",
      "|Narendra Modi Stadium, Ahmedabad                                     |\n",
      "|MA Chidambaram Stadium, Chepauk, Chennai                             |\n",
      "|Maharaja Yadavindra Singh International Cricket Stadium, Mullanpur   |\n",
      "|Eden Gardens, Kolkata                                                |\n",
      "|Barsapara Cricket Stadium, Guwahati                                  |\n",
      "+---------------------------------------------------------------------+\n",
      "\n"
     ]
    }
   ],
   "source": [
    "# List all unique venues where matches were played.\n",
    "\n",
    "venue_df = match_df.select(col(\"venue\")).distinct()\n",
    "venue_df.show(truncate=False)"
   ]
  },
  {
   "cell_type": "code",
   "execution_count": 19,
   "id": "9d181c82-87e3-4039-8e95-320b1a6b56f8",
   "metadata": {},
   "outputs": [
    {
     "name": "stdout",
     "output_type": "stream",
     "text": [
      "+------------+-----+\n",
      "|winning_team|count|\n",
      "+------------+-----+\n",
      "|         KKR|   11|\n",
      "|          DC|    7|\n",
      "|          RR|    9|\n",
      "|         LSG|    7|\n",
      "|        NULL|    3|\n",
      "|          MI|    4|\n",
      "|          GT|    5|\n",
      "|         CSK|    7|\n",
      "|         SRH|    9|\n",
      "|         RCB|    7|\n",
      "|        PBKS|    5|\n",
      "+------------+-----+\n",
      "\n"
     ]
    }
   ],
   "source": [
    "# Find the number of matches won by each team.\n",
    "\n",
    "no_of_match_won_df = match_df.select(col(\"winning_team\")).groupBy(\"winning_team\").count()\n",
    "no_of_match_won_df.show()"
   ]
  },
  {
   "cell_type": "code",
   "execution_count": 20,
   "id": "ae6e9db9-3440-4cff-b7fd-ab11e6faf7d2",
   "metadata": {},
   "outputs": [
    {
     "name": "stdout",
     "output_type": "stream",
     "text": [
      "+--------+----------+---------------------------------------------+-----+-----+\n",
      "|match_no|date      |venue                                        |team1|team2|\n",
      "+--------+----------+---------------------------------------------+-----+-----+\n",
      "|63      |2024-05-13|Narendra Modi Stadium, Ahmedabad             |GT   |KKR  |\n",
      "|66      |2024-05-16|Rajiv Gandhi International Stadium, Hyderabad|SRH  |GT   |\n",
      "|70      |2024-05-19|Barsapara Cricket Stadium, Guwahati          |RR   |KKR  |\n",
      "+--------+----------+---------------------------------------------+-----+-----+\n",
      "\n"
     ]
    }
   ],
   "source": [
    "# Find the number of matches with no result\n",
    "\n",
    "matches_with_no_res_df = (\n",
    "    match_df.select(col(\"match_no\"), col(\"date\"), col(\"venue\"), col(\"team1\"), col(\"team2\"))\n",
    "    .filter(col(\"winning_team\").isNull())\n",
    ")\n",
    "matches_with_no_res_df.show(truncate=False)"
   ]
  },
  {
   "cell_type": "code",
   "execution_count": 21,
   "id": "1f06d019-a7a8-46f9-9d28-b4fa7103db0b",
   "metadata": {},
   "outputs": [
    {
     "name": "stdout",
     "output_type": "stream",
     "text": [
      "+----+----------+\n",
      "|team|total_runs|\n",
      "+----+----------+\n",
      "| SRH|      2906|\n",
      "| RCB|      2789|\n",
      "|  RR|      2533|\n",
      "| KKR|      2481|\n",
      "|  DC|      2465|\n",
      "|  MI|      2422|\n",
      "| CSK|      2405|\n",
      "|PBKS|      2372|\n",
      "| LSG|      2350|\n",
      "|  GT|      1934|\n",
      "+----+----------+\n",
      "\n"
     ]
    }
   ],
   "source": [
    "# Find the total runs scored by each team in IPL 2024.\n",
    "\n",
    "total_runs_by_team_df = (\n",
    "    ball_by_ball_df.groupBy(\"batting_team\")\n",
    "        .agg(sum(\"runs_of_bat\").alias(\"total_runs\")).orderBy(col(\"total_runs\").desc())\n",
    "        .select(col(\"batting_team\").alias(\"team\"), col(\"total_runs\"))\n",
    ")\n",
    "total_runs_by_team_df.show()"
   ]
  },
  {
   "cell_type": "code",
   "execution_count": 22,
   "id": "ae98ba9d-bce6-4d37-9b98-692d4f4e379b",
   "metadata": {},
   "outputs": [
    {
     "name": "stdout",
     "output_type": "stream",
     "text": [
      "+-------+----+----------+\n",
      "| player|team|total_runs|\n",
      "+-------+----+----------+\n",
      "|V Kohli| RCB|       741|\n",
      "+-------+----+----------+\n",
      "only showing top 1 row\n",
      "\n"
     ]
    }
   ],
   "source": [
    "# Identify the player with the most runs in the season. (Orange cap holder)\n",
    "\n",
    "most_run_by_individual_df = (\n",
    "    ball_by_ball_df.groupBy(\"striker\")\n",
    "    .agg(sum(\"runs_of_bat\").alias(\"total_runs\"))\n",
    "    .select(col(\"striker\").alias(\"player\"), col(\"total_runs\"))\n",
    ")\n",
    "\n",
    "orange_cap_df = (\n",
    "    ball_by_ball_df.select(col(\"striker\").alias(\"player\"), col(\"batting_team\").alias(\"team\")).distinct()\n",
    "    .join(most_run_by_individual_df, \"player\", \"inner\")\n",
    "    .select(col(\"player\"), col(\"team\"), col(\"total_runs\"))\n",
    "    .orderBy(col(\"total_runs\").desc())\n",
    ")\n",
    "orange_cap_df.show(1)"
   ]
  },
  {
   "cell_type": "code",
   "execution_count": 23,
   "id": "5c34d00b-184e-44f3-a4fe-3a7b1d97b77d",
   "metadata": {},
   "outputs": [
    {
     "name": "stdout",
     "output_type": "stream",
     "text": [
      "+---------------+----+----------+\n",
      "|         player|team|total_runs|\n",
      "+---------------+----+----------+\n",
      "|        V Kohli| RCB|       741|\n",
      "|     RD Gaikwad| CSK|       583|\n",
      "|        R Parag|  RR|       573|\n",
      "|        TM Head| SRH|       567|\n",
      "|      SV Samson|  RR|       531|\n",
      "|B Sai Sudharsan|  GT|       527|\n",
      "|       KL Rahul| LSG|       520|\n",
      "|       N Pooran| LSG|       499|\n",
      "|      SP Narine| KKR|       488|\n",
      "|Abhishek Sharma| SRH|       484|\n",
      "+---------------+----+----------+\n",
      "only showing top 10 rows\n",
      "\n"
     ]
    }
   ],
   "source": [
    "# Top 10 highest runs scorers\n",
    "\n",
    "orange_cap_df.show(10)"
   ]
  },
  {
   "cell_type": "code",
   "execution_count": 24,
   "id": "a29b8c38-9aa9-450c-acdb-11041c4be0e1",
   "metadata": {},
   "outputs": [
    {
     "name": "stdout",
     "output_type": "stream",
     "text": [
      "+--------+----+-------------+\n",
      "|  player|team|total_wickets|\n",
      "+--------+----+-------------+\n",
      "|HV Patel|PBKS|           24|\n",
      "+--------+----+-------------+\n",
      "only showing top 1 row\n",
      "\n"
     ]
    }
   ],
   "source": [
    "# Calculate the total wickets taken by each bowler. (Purple cap holder)\n",
    "\n",
    "total_wickets_by_individual_df = (\n",
    "    ball_by_ball_df.filter(col(\"wicket_type\").isin([\"caught\", \"lbw\", \"stumped\", \"bowled\"]))\n",
    "    .groupBy(\"bowler\").count()\n",
    "    .select(col(\"bowler\").alias(\"player\"), col(\"count\").alias(\"total_wickets\"))\n",
    ")\n",
    "\n",
    "purple_cap_df = (\n",
    "    ball_by_ball_df.select(col(\"bowler\").alias(\"player\"), col(\"bowling_team\").alias(\"team\")).distinct()\n",
    "    .join(total_wickets_by_individual_df, \"player\", \"inner\")\n",
    "    .select(col(\"player\"), col(\"team\"), col(\"total_wickets\"))\n",
    "    .orderBy(col(\"total_wickets\").desc())\n",
    ")\n",
    "\n",
    "purple_cap_df.show(1)"
   ]
  },
  {
   "cell_type": "code",
   "execution_count": 25,
   "id": "5f8b064a-db3e-45d2-852c-6f36df3e58f4",
   "metadata": {},
   "outputs": [
    {
     "name": "stdout",
     "output_type": "stream",
     "text": [
      "+--------------+----+-------------+\n",
      "|        player|team|total_wickets|\n",
      "+--------------+----+-------------+\n",
      "|      HV Patel|PBKS|           24|\n",
      "|      CV Varun| KKR|           21|\n",
      "|     JJ Bumrah|  MI|           20|\n",
      "|  Harshit Rana| KKR|           19|\n",
      "|    Avesh Khan|  RR|           19|\n",
      "|    AD Russell| KKR|           19|\n",
      "|   T Natarajan| SRH|           19|\n",
      "|Arshdeep Singh|PBKS|           19|\n",
      "|     YS Chahal|  RR|           18|\n",
      "|    PJ Cummins| SRH|           18|\n",
      "+--------------+----+-------------+\n",
      "only showing top 10 rows\n",
      "\n"
     ]
    }
   ],
   "source": [
    "# Top 10 wickets taken bowler\n",
    "\n",
    "purple_cap_df.show(10)"
   ]
  },
  {
   "cell_type": "code",
   "execution_count": 26,
   "id": "5536a83b-fc35-4276-92c3-2589723a14ec",
   "metadata": {},
   "outputs": [
    {
     "name": "stdout",
     "output_type": "stream",
     "text": [
      "+---------------+-----------+\n",
      "|        striker|total_fours|\n",
      "+---------------+-----------+\n",
      "|        TM Head|         64|\n",
      "|        V Kohli|         62|\n",
      "|     RD Gaikwad|         58|\n",
      "|    YBK Jaiswal|         54|\n",
      "|        PD Salt|         50|\n",
      "|      SP Narine|         50|\n",
      "|      SV Samson|         48|\n",
      "|B Sai Sudharsan|         48|\n",
      "|   F du Plessis|         47|\n",
      "|      RG Sharma|         45|\n",
      "|       KL Rahul|         45|\n",
      "|        R Parag|         40|\n",
      "|     MP Stoinis|         39|\n",
      "|   Shubman Gill|         37|\n",
      "|       SA Yadav|         36|\n",
      "|        RR Pant|         36|\n",
      "|     JC Buttler|         36|\n",
      "|  Abishek Porel|         36|\n",
      "|Abhishek Sharma|         36|\n",
      "|       N Pooran|         35|\n",
      "+---------------+-----------+\n",
      "only showing top 20 rows\n",
      "\n"
     ]
    }
   ],
   "source": [
    "# Batsman with more 4's\n",
    "\n",
    "highest_four_df = (\n",
    "    ball_by_ball_df.filter((col(\"runs_of_bat\") == 4))\n",
    "    .groupBy(\"striker\").agg(count(\"striker\").alias(\"total_fours\"))\n",
    "    .orderBy(col(\"total_fours\").desc())\n",
    ")\n",
    "highest_four_df.show()"
   ]
  },
  {
   "cell_type": "code",
   "execution_count": 27,
   "id": "b4db924e-a7cd-4421-9c56-4c65e7ec5e74",
   "metadata": {},
   "outputs": [
    {
     "name": "stdout",
     "output_type": "stream",
     "text": [
      "+-------------------+-----------+\n",
      "|            striker|total_sixes|\n",
      "+-------------------+-----------+\n",
      "|    Abhishek Sharma|         42|\n",
      "|          H Klaasen|         38|\n",
      "|            V Kohli|         38|\n",
      "|           N Pooran|         36|\n",
      "|          SP Narine|         33|\n",
      "|            R Parag|         33|\n",
      "|         RM Patidar|         33|\n",
      "|            TM Head|         32|\n",
      "|             S Dube|         28|\n",
      "|    J Fraser-McGurk|         28|\n",
      "|           T Stubbs|         26|\n",
      "|            RR Pant|         25|\n",
      "|          SV Samson|         24|\n",
      "|            PD Salt|         24|\n",
      "|          RG Sharma|         23|\n",
      "|         KD Karthik|         22|\n",
      "|Nithish Kumar Reddy|         21|\n",
      "|       F du Plessis|         21|\n",
      "|     Shashank Singh|         21|\n",
      "|     P Simran Singh|         20|\n",
      "+-------------------+-----------+\n",
      "only showing top 20 rows\n",
      "\n"
     ]
    }
   ],
   "source": [
    "# Batsman with more 6's\n",
    "\n",
    "highest_six_df = (\n",
    "    ball_by_ball_df.filter((col(\"runs_of_bat\") == 6))\n",
    "    .groupBy(\"striker\").agg(count(\"striker\").alias(\"total_sixes\"))\n",
    "    .orderBy(col(\"total_sixes\").desc())\n",
    ")\n",
    "\n",
    "highest_six_df.show()"
   ]
  },
  {
   "cell_type": "code",
   "execution_count": 28,
   "id": "a13ba074-772a-4fea-8fae-64e67612e08b",
   "metadata": {},
   "outputs": [
    {
     "name": "stdout",
     "output_type": "stream",
     "text": [
      "+---------------+-----------+\n",
      "|        striker|total_count|\n",
      "+---------------+-----------+\n",
      "|        V Kohli|        100|\n",
      "|        TM Head|         96|\n",
      "|      SP Narine|         83|\n",
      "|Abhishek Sharma|         78|\n",
      "|     RD Gaikwad|         76|\n",
      "|        PD Salt|         74|\n",
      "|        R Parag|         73|\n",
      "|      SV Samson|         72|\n",
      "|       N Pooran|         71|\n",
      "|    YBK Jaiswal|         70|\n",
      "|      RG Sharma|         68|\n",
      "|   F du Plessis|         68|\n",
      "|B Sai Sudharsan|         65|\n",
      "|       KL Rahul|         64|\n",
      "|        RR Pant|         61|\n",
      "|J Fraser-McGurk|         60|\n",
      "|      H Klaasen|         57|\n",
      "|         S Dube|         56|\n",
      "|     MP Stoinis|         55|\n",
      "|       SA Yadav|         54|\n",
      "+---------------+-----------+\n",
      "only showing top 20 rows\n",
      "\n"
     ]
    }
   ],
   "source": [
    "# Find the batsman with the most sixes and fours.\n",
    "\n",
    "highest_six_four_df = (\n",
    "    ball_by_ball_df.filter((col(\"runs_of_bat\") == 4) | (col(\"runs_of_bat\") == 6))\n",
    "    .groupBy(\"striker\").agg(count(\"striker\").alias(\"total_count\"))\n",
    "    .orderBy(col(\"total_count\").desc())\n",
    ")\n",
    "\n",
    "highest_six_four_df.show()"
   ]
  },
  {
   "cell_type": "code",
   "execution_count": 29,
   "id": "dd1fc5dd-9bca-43a4-a9f0-d26b7bd4ed6b",
   "metadata": {},
   "outputs": [
    {
     "name": "stdout",
     "output_type": "stream",
     "text": [
      "+--------------+---------+------------------+\n",
      "|        bowler|dot_balls|total_balls_bowled|\n",
      "+--------------+---------+------------------+\n",
      "|     JJ Bumrah|      144|               328|\n",
      "|      TA Boult|      132|               333|\n",
      "|       B Kumar|      126|               357|\n",
      "|    PJ Cummins|      123|               375|\n",
      "|     SP Narine|      122|               334|\n",
      "|Mohammed Siraj|      121|               350|\n",
      "|      CV Varun|      121|               309|\n",
      "|      KK Ahmed|      120|               324|\n",
      "|    Yash Dayal|      116|               322|\n",
      "|  TU Deshpande|      111|               310|\n",
      "|   T Natarajan|      108|               332|\n",
      "|Arshdeep Singh|      108|               326|\n",
      "|      MA Starc|      102|               267|\n",
      "|     YS Chahal|       98|               362|\n",
      "|    Avesh Khan|       97|               346|\n",
      "|  Harshit Rana|       93|               264|\n",
      "|      K Rabada|       93|               262|\n",
      "|  Ravi Bishnoi|       88|               270|\n",
      "|      R Ashwin|       87|               346|\n",
      "|   Mohsin Khan|       82|               237|\n",
      "+--------------+---------+------------------+\n",
      "only showing top 20 rows\n",
      "\n"
     ]
    }
   ],
   "source": [
    "# Identify the bowler with the most dot balls.\n",
    "\n",
    "dot_balls_df = (\n",
    "    ball_by_ball_df.filter(col(\"total_runs\") == 0)\n",
    "    .groupBy(\"bowler\")\n",
    "    .agg(count(\"*\").alias(\"dot_balls\"))\n",
    ")\n",
    "\n",
    "total_balls_bowled_df = ball_by_ball_df.groupBy(\"bowler\").agg(count(\"*\").alias(\"total_balls_bowled\"))\n",
    "\n",
    "total_dot_balls_df = dot_balls_df.join(total_balls_bowled_df, \"bowler\", \"inner\").orderBy(col(\"dot_balls\").desc())\n",
    "\n",
    "total_dot_balls_df.show()"
   ]
  },
  {
   "cell_type": "code",
   "execution_count": 30,
   "id": "360bc7b7-5ad1-4bfb-8ee0-7c327ccc6c12",
   "metadata": {},
   "outputs": [
    {
     "name": "stdout",
     "output_type": "stream",
     "text": [
      "+-----------------+----+-------+-------+-------------+\n",
      "|           bowler|team|against|wickets|runs_conceded|\n",
      "+-----------------+----+-------+-------+-------------+\n",
      "|      Yash Thakur|  GT|    LSG|      5|           31|\n",
      "|   Sandeep Sharma|  RR|     MI|      5|           18|\n",
      "|        JJ Bumrah|  MI|    RCB|      5|           22|\n",
      "|    Kuldeep Yadav|  DC|    SRH|      4|           55|\n",
      "|Mustafizur Rahman| CSK|    RCB|      4|           30|\n",
      "|      T Natarajan|  DC|    SRH|      4|           19|\n",
      "|     TU Deshpande| SRH|    CSK|      4|           27|\n",
      "|         MA Starc|  MI|    KKR|      4|           33|\n",
      "|         J Little| RCB|     GT|      4|           45|\n",
      "|        G Coetzee|  DC|     MI|      4|           35|\n",
      "|    R Sai Kishore|  GT|   PBKS|      4|           33|\n",
      "|      M Pathirana|  MI|    CSK|      4|           30|\n",
      "|   Arshdeep Singh|PBKS|    SRH|      4|           29|\n",
      "|     Rasikh Salam|  MI|     DC|      3|           35|\n",
      "|        YS Chahal|  RR|     MI|      3|           11|\n",
      "|         HV Patel|PBKS|     MI|      3|           35|\n",
      "|         MA Starc| KKR|    LSG|      3|           29|\n",
      "|     Mukesh Kumar| CSK|     DC|      3|           21|\n",
      "|       N Thushara|  MI|    LSG|      3|           28|\n",
      "|     Mukesh Kumar|  MI|     DC|      3|           60|\n",
      "+-----------------+----+-------+-------+-------------+\n",
      "only showing top 20 rows\n",
      "\n"
     ]
    }
   ],
   "source": [
    "# Determine the best bowling figures (most wickets in a match).\n",
    "\n",
    "most_wickets_df = (\n",
    "    ball_by_ball_df.filter(col(\"wicket_type\").isin([\"caught\", \"lbw\", \"stumped\", \"bowled\"]))\n",
    "    .groupBy(\"bowler\", \"match_id\")\n",
    "    .agg(count(\"wicket_type\").alias(\"wickets\"))\n",
    ")\n",
    "\n",
    "runs_conceded_df = (\n",
    "    ball_by_ball_df.groupBy(\"bowler\", \"match_id\")\n",
    "    .agg(sum(\"total_runs\").alias(\"runs_conceded\"))\n",
    ")\n",
    "\n",
    "unique_team_df = ball_by_ball_df.dropDuplicates([\"match_id\"]).select(\"match_id\", \"bowling_team\", \"batting_team\")\n",
    "\n",
    "most_wick_in_match_df = (\n",
    "    most_wickets_df.join(runs_conceded_df, [\"bowler\", \"match_id\"], \"inner\")\n",
    "    .join(unique_team_df, \"match_id\", \"inner\")\n",
    "    .select(col(\"bowler\"),\n",
    "            col(\"bowling_team\").alias(\"team\"),\n",
    "            col(\"batting_team\").alias(\"against\"),\n",
    "            col(\"wickets\"),\n",
    "            col(\"runs_conceded\"))\n",
    "    .orderBy(col(\"wickets\").desc())\n",
    ")\n",
    "\n",
    "most_wick_in_match_df.show()"
   ]
  },
  {
   "cell_type": "code",
   "execution_count": 31,
   "id": "2ee77412-3781-4988-8fff-2dd5a01e824c",
   "metadata": {},
   "outputs": [
    {
     "name": "stdout",
     "output_type": "stream",
     "text": [
      "+---------------+----+-------+----+-----------+\n",
      "|         player|team|against|runs|balls_faced|\n",
      "+---------------+----+-------+----+-----------+\n",
      "|     MP Stoinis| LSG|    CSK| 124|         63|\n",
      "|        V Kohli| RCB|     RR| 113|         72|\n",
      "|      SP Narine| KKR|     RR| 109|         56|\n",
      "|    JM Bairstow|PBKS|    KKR| 108|         48|\n",
      "|     RD Gaikwad| CSK|    LSG| 108|         60|\n",
      "|     JC Buttler|  RR|    KKR| 107|         60|\n",
      "|      RG Sharma|  MI|    CSK| 105|         63|\n",
      "|    YBK Jaiswal|  RR|     MI| 104|         60|\n",
      "|   Shubman Gill|  GT|    CSK| 104|         55|\n",
      "|B Sai Sudharsan|  GT|    CSK| 103|         51|\n",
      "|        TM Head| SRH|    RCB| 102|         41|\n",
      "|       SA Yadav|  MI|    SRH| 102|         51|\n",
      "|     JC Buttler|  RR|    RCB| 100|         58|\n",
      "|       WG Jacks| RCB|     GT| 100|         41|\n",
      "|     RD Gaikwad| CSK|    SRH|  98|         54|\n",
      "|        V Kohli| RCB|   PBKS|  92|         47|\n",
      "|   Shubman Gill|  GT|   PBKS|  89|         48|\n",
      "|        TM Head| SRH|    LSG|  89|         30|\n",
      "|        TM Head| SRH|     DC|  89|         32|\n",
      "|        PD Salt| KKR|    LSG|  89|         47|\n",
      "+---------------+----+-------+----+-----------+\n",
      "only showing top 20 rows\n",
      "\n"
     ]
    }
   ],
   "source": [
    "# Find the highest individual score by a batsman in a match.\n",
    "\n",
    "total_runs_df = (\n",
    "    ball_by_ball_df.filter(col(\"wide\") == 0)\n",
    "    .groupBy(\"striker\", \"match_id\", \"innings\")\n",
    "    .agg(sum(\"runs_of_bat\").alias(\"runs\"), count(\"*\").alias(\"balls_faced\"))\n",
    "    .orderBy(col(\"runs\").desc())\n",
    ")\n",
    "\n",
    "unique_team_df = ball_by_ball_df.dropDuplicates([\"match_id\", \"innings\"]).select(\"match_id\", \"bowling_team\", \"batting_team\", \"innings\")\n",
    "\n",
    "highest_individual_runs_df = (\n",
    "    total_runs_df.join(unique_team_df, [\"match_id\", \"innings\"], \"inner\")\n",
    "    .select(col(\"striker\").alias(\"player\"),\n",
    "            col(\"batting_team\").alias(\"team\"),\n",
    "            col(\"bowling_team\").alias(\"against\"),\n",
    "            col(\"runs\"),\n",
    "            col(\"balls_faced\"))\n",
    "    .orderBy(col(\"runs\").desc())\n",
    ")\n",
    "\n",
    "highest_individual_runs_df.show()"
   ]
  },
  {
   "cell_type": "code",
   "execution_count": 32,
   "id": "0c67612d-77d1-43d1-8e94-cc3f038ef70e",
   "metadata": {},
   "outputs": [
    {
     "name": "stdout",
     "output_type": "stream",
     "text": [
      "+------------+-------------------+\n",
      "|batting_team|avg_powerplay_score|\n",
      "+------------+-------------------+\n",
      "|         SRH|              63.94|\n",
      "|         KKR|              60.64|\n",
      "|          DC|              60.64|\n",
      "|         RCB|              56.47|\n",
      "|          MI|              51.79|\n",
      "|        PBKS|              51.14|\n",
      "|         CSK|              49.86|\n",
      "|          RR|              49.33|\n",
      "|         LSG|              47.14|\n",
      "|          GT|              43.83|\n",
      "+------------+-------------------+\n",
      "\n"
     ]
    }
   ],
   "source": [
    "# Calculate the team with the best average powerplay score (overs 1-6).\n",
    "\n",
    "best_powerplay_df = (\n",
    "    ball_by_ball_df.filter(col(\"over\") <= 6)\n",
    "    .groupBy(\"batting_team\", \"match_id\")\n",
    "    .agg(sum(\"runs_of_bat\").alias(\"powerplay_runs\"))\n",
    "    .groupBy(\"batting_team\")\n",
    "    .agg(F_round(avg(\"powerplay_runs\"), 2).alias(\"avg_powerplay_score\"))\n",
    "    .orderBy(col(\"avg_powerplay_score\").desc())\n",
    ")\n",
    "\n",
    "best_powerplay_df.show()"
   ]
  },
  {
   "cell_type": "code",
   "execution_count": 33,
   "id": "481f85ad-4edc-4c4a-80ec-1555df006762",
   "metadata": {},
   "outputs": [
    {
     "name": "stdout",
     "output_type": "stream",
     "text": [
      "+----------------+----------+--------------+\n",
      "|player_dismissed|dismissals|matches_played|\n",
      "+----------------+----------+--------------+\n",
      "| Abhishek Sharma|        15|            15|\n",
      "|    F du Plessis|        15|            15|\n",
      "|       SP Narine|        14|            14|\n",
      "|         TM Head|        14|            14|\n",
      "|     YBK Jaiswal|        14|            14|\n",
      "|        KL Rahul|        14|            14|\n",
      "|  P Simran Singh|        14|            14|\n",
      "|    Ishan Kishan|        14|            14|\n",
      "|       RG Sharma|        13|            13|\n",
      "|      RM Patidar|        13|            13|\n",
      "|       H Klaasen|        12|            12|\n",
      "|      MP Stoinis|        12|            12|\n",
      "|       HH Pandya|        12|            12|\n",
      "|       AM Rahane|        12|            12|\n",
      "|         V Kohli|        12|            12|\n",
      "|       SV Samson|        11|            11|\n",
      "|          S Dube|        11|            11|\n",
      "|      RD Gaikwad|        11|            11|\n",
      "|         RR Pant|        11|            11|\n",
      "|     DJ Mitchell|        11|            11|\n",
      "+----------------+----------+--------------+\n",
      "only showing top 20 rows\n",
      "\n"
     ]
    }
   ],
   "source": [
    "# Identify the player who has been dismissed the most.\n",
    "\n",
    "most_dismissed_player_df = (\n",
    "    ball_by_ball_df.filter(col(\"player_dismissed\").isNotNull()) \n",
    "    .groupBy(\"player_dismissed\")\n",
    "    .agg(count(\"*\").alias(\"dismissals\"))\n",
    "    .orderBy(col(\"dismissals\").desc())\n",
    ")\n",
    "\n",
    "matches_played_df = (\n",
    "    ball_by_ball_df.select(\"player_dismissed\", \"match_id\")\n",
    "    .filter(col(\"player_dismissed\").isNotNull())\n",
    "    .distinct()\n",
    "    .groupBy(\"player_dismissed\")\n",
    "    .agg(count(\"match_id\").alias(\"matches_played\"))\n",
    ")\n",
    "\n",
    "final_df = most_dismissed_player_df.join(matches_played_df, \"player_dismissed\", \"left\")\n",
    "\n",
    "final_df.orderBy(col(\"dismissals\").desc()).show()"
   ]
  },
  {
   "cell_type": "code",
   "execution_count": 34,
   "id": "e33eea1f-dca0-4f1e-8572-a8aaa412e805",
   "metadata": {},
   "outputs": [
    {
     "name": "stdout",
     "output_type": "stream",
     "text": [
      "+-----------------+----------+--------------+\n",
      "| player_dismissed|dismissals|matches_played|\n",
      "+-----------------+----------+--------------+\n",
      "|         K Rabada|         1|             1|\n",
      "|    Gulbadin Naib|         1|             1|\n",
      "|  Arshad Khan (2)|         1|             1|\n",
      "|     Mayank Dagar|         1|             1|\n",
      "|Vijaykumar Vyshak|         1|             1|\n",
      "|  SS Prabhudessai|         1|             1|\n",
      "|      Mohsin Khan|         1|             1|\n",
      "|     Mukesh Kumar|         1|             1|\n",
      "|       BR Sharath|         1|             1|\n",
      "|         UT Yadav|         1|             1|\n",
      "|    JA Richardson|         1|             1|\n",
      "|    R Sai Kishore|         1|             1|\n",
      "|       KA Maharaj|         1|             1|\n",
      "|      LH Ferguson|         1|             1|\n",
      "|        MJ Suthar|         1|             1|\n",
      "|        SN Thakur|         1|             1|\n",
      "|        MK Pandey|         1|             1|\n",
      "|Washington Sundar|         1|             1|\n",
      "|         M Jansen|         1|             1|\n",
      "|      DG Nalkande|         1|             1|\n",
      "+-----------------+----------+--------------+\n",
      "only showing top 20 rows\n",
      "\n"
     ]
    }
   ],
   "source": [
    "# Identify the player who has been dismissed the least.\n",
    "\n",
    "final_df.orderBy(col(\"dismissals\").asc()).show()"
   ]
  },
  {
   "cell_type": "code",
   "execution_count": 35,
   "id": "97be5d20-bfd9-4954-9a7f-9ec077b5dd8b",
   "metadata": {},
   "outputs": [
    {
     "name": "stdout",
     "output_type": "stream",
     "text": [
      "+----+--------------+\n",
      "|team|matches_played|\n",
      "+----+--------------+\n",
      "| SRH|            17|\n",
      "| KKR|            16|\n",
      "|  RR|            16|\n",
      "| RCB|            15|\n",
      "|  DC|            14|\n",
      "| LSG|            14|\n",
      "|  MI|            14|\n",
      "|  GT|            14|\n",
      "| CSK|            14|\n",
      "|PBKS|            14|\n",
      "+----+--------------+\n",
      "\n"
     ]
    }
   ],
   "source": [
    "# Number of matches played by each team\n",
    "\n",
    "matches_played_df = (\n",
    "    match_df.select(\"match_id\", \"team1\")\n",
    "    .withColumnRenamed(\"team1\", \"team\")\n",
    "    .union(match_df.select(\"match_id\", col(\"team2\").alias(\"team\")))\n",
    "    .groupBy(\"team\")\n",
    "    .agg(countDistinct(\"match_id\").alias(\"matches_played\"))\n",
    "    .orderBy(col(\"matches_played\").desc())\n",
    ")\n",
    "\n",
    "matches_played_df.show()"
   ]
  },
  {
   "cell_type": "code",
   "execution_count": 36,
   "id": "be17e9fb-0c64-47ce-9c21-7e664bf98445",
   "metadata": {},
   "outputs": [
    {
     "name": "stdout",
     "output_type": "stream",
     "text": [
      "+--------+-----------------------------+----+----------+----+-----+\n",
      "|match_id|partners                     |team|opposition|runs|balls|\n",
      "+--------+-----------------------------+----+----------+----+-----+\n",
      "|202459  |B Sai Sudharsan, Shubman Gill|GT  |CSK       |210 |103  |\n",
      "|202457  |Abhishek Sharma, TM Head     |LSG |SRH       |167 |57   |\n",
      "|202445  |V Kohli, WG Jacks            |GT  |RCB       |166 |72   |\n",
      "|202419  |JC Buttler, SV Samson        |RCB |RR        |148 |86   |\n",
      "|202455  |SA Yadav, Tilak Varma        |SRH |MI        |143 |78   |\n",
      "+--------+-----------------------------+----+----------+----+-----+\n",
      "\n"
     ]
    }
   ],
   "source": [
    "# List the top 5 partnerships (total runs by striker & non-striker).\n",
    "\n",
    "partnerships_df = (\n",
    "    ball_by_ball_df.groupBy(\"match_id\",\n",
    "                            least(\"striker\", \"non_striker\").alias(\"player1\"),\n",
    "                            greatest(\"striker\", \"non_striker\").alias(\"player2\"))\n",
    "    .agg(sum(\"total_runs\").alias(\"runs\").alias(\"runs\"),\n",
    "         sum(when(col(\"extras\") > 0, 0).otherwise(1)).alias(\"balls\"))\n",
    ")\n",
    "\n",
    "unique_team_df = ball_by_ball_df.dropDuplicates([\"match_id\"]).select(\"match_id\", \"bowling_team\", \"batting_team\")\n",
    "\n",
    "top_five_partnerships_df = (\n",
    "    partnerships_df.join(unique_team_df, \"match_id\", \"inner\")\n",
    "    .select(col(\"match_id\"),\n",
    "            concat_ws(\", \", col(\"player1\"), col(\"player2\")).alias(\"partners\"),\n",
    "            col(\"batting_team\").alias(\"team\"),\n",
    "            col(\"bowling_team\").alias(\"opposition\"),\n",
    "            col(\"runs\"),\n",
    "            col(\"balls\"))\n",
    "    .orderBy(col(\"runs\").desc())\n",
    "    .limit(5)\n",
    ")\n",
    "\n",
    "top_five_partnerships_df.show(truncate=False)"
   ]
  },
  {
   "cell_type": "code",
   "execution_count": 37,
   "id": "7d47bdd3-61f2-4370-b7de-88920b42bcf7",
   "metadata": {},
   "outputs": [
    {
     "name": "stdout",
     "output_type": "stream",
     "text": [
      "+---------------------+-----+\n",
      "|wicket_type          |count|\n",
      "+---------------------+-----+\n",
      "|caught               |644  |\n",
      "|bowled               |123  |\n",
      "|runout               |52   |\n",
      "|lbw                  |50   |\n",
      "|stumped              |13   |\n",
      "|obstructing the field|1    |\n",
      "+---------------------+-----+\n",
      "\n"
     ]
    }
   ],
   "source": [
    "# Determine the most common mode of dismissal in IPL 2024.\n",
    "\n",
    "common_dismissal_df = (\n",
    "    ball_by_ball_df.filter(col(\"wicket_type\").isNotNull())\n",
    "    .groupBy(\"wicket_type\")\n",
    "    .count()\n",
    "    .orderBy(col(\"count\").desc())\n",
    ")\n",
    "\n",
    "common_dismissal_df.show(truncate=False)"
   ]
  },
  {
   "cell_type": "code",
   "execution_count": 38,
   "id": "1bb278b4-e70d-4d99-80a1-6f97e13dcf87",
   "metadata": {},
   "outputs": [
    {
     "name": "stdout",
     "output_type": "stream",
     "text": [
      "+----+----------------+-------+\n",
      "|team|total_runs_given|wickets|\n",
      "+----+----------------+-------+\n",
      "|  GT|             403|     21|\n",
      "| KKR|             421|     25|\n",
      "|  MI|             502|     27|\n",
      "| RCB|             505|     19|\n",
      "| CSK|             523|     25|\n",
      "| LSG|             528|     17|\n",
      "|  RR|             586|     28|\n",
      "| SRH|             619|     19|\n",
      "|PBKS|             626|     41|\n",
      "|  DC|             660|     31|\n",
      "+----+----------------+-------+\n",
      "\n"
     ]
    }
   ],
   "source": [
    "# Identify which team had the best bowling performance in the death overs (16-20).\n",
    "\n",
    "bowling_perf_df = (\n",
    "    ball_by_ball_df.filter(col(\"over\") >= 16)\n",
    "    .groupBy(\"bowling_team\")\n",
    "    .agg(\n",
    "        sum(\"total_runs\").alias(\"total_runs_given\"),\n",
    "        sum(when(col(\"player_dismissed\").isNotNull(), 1).otherwise(0)).alias(\"wickets\")\n",
    "    )\n",
    "    .select(col(\"bowling_team\").alias(\"team\"), \"total_runs_given\", \"wickets\")\n",
    "    .orderBy(col(\"total_runs_given\").asc())\n",
    ")\n",
    "\n",
    "bowling_perf_df.show()"
   ]
  },
  {
   "cell_type": "code",
   "execution_count": 39,
   "id": "cec8ae7d-11a5-459e-bcf3-61a51172d356",
   "metadata": {},
   "outputs": [
    {
     "name": "stdout",
     "output_type": "stream",
     "text": [
      "+---------------------+-----+\n",
      "|umpire               |count|\n",
      "+---------------------+-----+\n",
      "|KN Ananthapadmanabhan|17   |\n",
      "+---------------------+-----+\n",
      "\n"
     ]
    }
   ],
   "source": [
    "# Identify the umpire who officiated the most matches.\n",
    "\n",
    "most_officiated_umpire = (\n",
    "    match_df.select(explode(array(col(\"umpire1\"), col(\"umpire2\"), col(\"umpire3\"))).alias(\"umpire\"))\n",
    "    .filter(col(\"umpire\").isNotNull())\n",
    "    .groupBy(\"umpire\")\n",
    "    .count()\n",
    "    .orderBy(col(\"count\").desc())\n",
    "    .limit(1)\n",
    ")\n",
    "\n",
    "most_officiated_umpire.show(truncate=False)"
   ]
  },
  {
   "cell_type": "code",
   "execution_count": 40,
   "id": "e3fb9089-2afd-4089-81ca-b71a56294294",
   "metadata": {},
   "outputs": [
    {
     "name": "stdout",
     "output_type": "stream",
     "text": [
      "+------------+----------------+-----+\n",
      "|batting_team|     oppositions|count|\n",
      "+------------+----------------+-----+\n",
      "|          RR|[RCB, PBKS, KKR]|    3|\n",
      "|          GT| [SRH, RR, PBKS]|    3|\n",
      "|         LSG|       [CSK, MI]|    2|\n",
      "|        PBKS|        [DC, GT]|    2|\n",
      "|         SRH|          [PBKS]|    1|\n",
      "|         RCB|          [PBKS]|    1|\n",
      "+------------+----------------+-----+\n",
      "\n"
     ]
    }
   ],
   "source": [
    "# Find out how many times a team successfully chased a target in the last over.\n",
    "\n",
    "chased_in_last_over_df = (\n",
    "    match_df.filter(col(\"won_by\") == \"wickets\")\n",
    "    .join(ball_by_ball_df, \"match_id\", \"inner\")\n",
    "    .filter((col(\"over\") >= 19) & (col(\"innings\") == 2) & (col(\"winning_team\") == col(\"batting_team\")))\n",
    "    .dropDuplicates([\"match_id\"])\n",
    "    .select(\"match_id\", \"winning_team\", \"batting_team\", \"bowling_team\", \"innings1_score\", \"innings2_score\")\n",
    "    .groupBy(\"batting_team\")\n",
    "    .agg(collect_list(\"bowling_team\").alias(\"oppositions\"),\n",
    "         count(\"batting_team\").alias(\"count\"))\n",
    "    .orderBy(col(\"count\").desc())\n",
    ")\n",
    "\n",
    "chased_in_last_over_df.show()"
   ]
  },
  {
   "cell_type": "code",
   "execution_count": 41,
   "id": "965788d6-8b6f-4b9f-a543-169a3ccecb4d",
   "metadata": {},
   "outputs": [
    {
     "name": "stdout",
     "output_type": "stream",
     "text": [
      "+-----+-----+------+------------+\n",
      "|team1|team2|margin|winning_team|\n",
      "+-----+-----+------+------------+\n",
      "|  KKR|   DC|   106|         KKR|\n",
      "+-----+-----+------+------------+\n",
      "\n"
     ]
    }
   ],
   "source": [
    "# Calculate the highest margin of victory by runs.\n",
    "\n",
    "highest_win_margin_by_runs_df = (\n",
    "    match_df.filter(col(\"won_by\") == \"runs\")\n",
    "    .withColumn(\"margin\", col(\"margin\").cast(\"int\"))\n",
    "    .orderBy(col(\"margin\").desc())\n",
    "    .select(\"team1\", \"team2\", \"margin\", \"winning_team\")\n",
    "    .limit(1)\n",
    ")\n",
    "\n",
    "highest_win_margin_by_runs_df.show()"
   ]
  },
  {
   "cell_type": "code",
   "execution_count": 42,
   "id": "ffb883ae-1be2-4132-8db5-eaeb65c857ef",
   "metadata": {},
   "outputs": [
    {
     "name": "stdout",
     "output_type": "stream",
     "text": [
      "+-----+-----+------+------------+\n",
      "|team1|team2|margin|winning_team|\n",
      "+-----+-----+------+------------+\n",
      "|  LSG|  SRH|    10|         SRH|\n",
      "+-----+-----+------+------------+\n",
      "\n"
     ]
    }
   ],
   "source": [
    "# Calculate the highest margin of victory by wickets.\n",
    "\n",
    "highest_win_margin_by_wickets_df = (\n",
    "    match_df.filter(col(\"won_by\") == \"wickets\")\n",
    "    .withColumn(\"margin\", col(\"margin\").cast(\"int\"))\n",
    "    .orderBy(col(\"margin\").desc())\n",
    "    .select(\"team1\", \"team2\", \"margin\", \"winning_team\")\n",
    "    .limit(1)\n",
    ")\n",
    "\n",
    "highest_win_margin_by_wickets_df.show()"
   ]
  },
  {
   "cell_type": "code",
   "execution_count": 43,
   "id": "42259daf-73cf-40ed-b478-4236c6360854",
   "metadata": {},
   "outputs": [
    {
     "name": "stdout",
     "output_type": "stream",
     "text": [
      "Probability of toss-winning team winning the match: 43.66%\n"
     ]
    }
   ],
   "source": [
    "# Analyze whether toss-winning teams had a higher probability of winning the match.\n",
    "\n",
    "total_matches = match_df.filter(col(\"winning_team\").isNotNull()).count()\n",
    "\n",
    "toss_win_match_win_df = match_df.filter(col(\"toss_winner\") == col(\"winning_team\"))\n",
    "toss_win_match_count = toss_win_match_win_df.count()\n",
    "\n",
    "probability = (toss_win_match_count / total_matches) * 100\n",
    "\n",
    "print(f\"Probability of toss-winning team winning the match: {probability:.2f}%\")"
   ]
  },
  {
   "cell_type": "code",
   "execution_count": 45,
   "id": "f2384e7f-c3e5-4647-9cf0-3719dc590a99",
   "metadata": {},
   "outputs": [
    {
     "name": "stdout",
     "output_type": "stream",
     "text": [
      "+--------+---------------+----------------+----+\n",
      "|match_id|        striker|individual_score|rank|\n",
      "+--------+---------------+----------------+----+\n",
      "|  202401|     Anuj Rawat|              48|   1|\n",
      "|  202402|      SM Curran|              63|   1|\n",
      "|  202403|     AD Russell|              64|   1|\n",
      "|  202404|      SV Samson|              82|   1|\n",
      "|  202405|       D Brevis|              46|   1|\n",
      "|  202406|        V Kohli|              77|   1|\n",
      "|  202407|         S Dube|              51|   1|\n",
      "|  202408|      H Klaasen|              80|   1|\n",
      "|  202409|        R Parag|              84|   1|\n",
      "|  202410|        V Kohli|              83|   1|\n",
      "|  202411|       S Dhawan|              70|   1|\n",
      "|  202412|B Sai Sudharsan|              45|   1|\n",
      "|  202413|      DA Warner|              52|   1|\n",
      "|  202414|        R Parag|              54|   1|\n",
      "|  202415|      Q de Kock|              81|   1|\n",
      "|  202416|      SP Narine|              85|   1|\n",
      "|  202417|   Shubman Gill|              89|   1|\n",
      "|  202418|     AK Markram|              50|   1|\n",
      "|  202419|        V Kohli|             113|   1|\n",
      "|  202420|       T Stubbs|              71|   1|\n",
      "+--------+---------------+----------------+----+\n",
      "only showing top 20 rows\n",
      "\n"
     ]
    }
   ],
   "source": [
    "# Use a window function to find the top run scorers in each match.\n",
    "\n",
    "run_scored_df = ball_by_ball_df.groupBy(\"match_id\", \"striker\").agg(sum(\"runs_of_bat\").alias(\"individual_score\"))\n",
    "\n",
    "rank_window = Window.partitionBy(\"match_id\").orderBy(col(\"individual_score\").desc())\n",
    "\n",
    "top_run_scorer_df = run_scored_df.withColumn(\"rank\", dense_rank().over(rank_window)).filter(col(\"rank\") == 1)\n",
    "\n",
    "top_run_scorer_df.show()"
   ]
  },
  {
   "cell_type": "code",
   "execution_count": 46,
   "id": "99da0c65-77b9-4444-aa2b-efbbd0ef08e6",
   "metadata": {},
   "outputs": [
    {
     "name": "stdout",
     "output_type": "stream",
     "text": [
      "+--------+------------+-----+------------+----+\n",
      "|match_id|batting_team|score|wickets_lost|rank|\n",
      "+--------+------------+-----+------------+----+\n",
      "|  202430|         SRH|  287|           3|   1|\n",
      "+--------+------------+-----+------------+----+\n",
      "\n"
     ]
    }
   ],
   "source": [
    "# Best team score\n",
    "\n",
    "team_score = (\n",
    "    ball_by_ball_df.groupBy(\"match_id\", \"batting_team\")\n",
    "    .agg(sum(\"total_runs\").alias(\"score\"),\n",
    "         count(col(\"player_dismissed\")).alias(\"wickets_lost\"))\n",
    ")\n",
    "\n",
    "rank_window = Window.partitionBy(\"match_id\").orderBy(col(\"score\").desc())\n",
    "\n",
    "best_team_score = (\n",
    "    team_score.withColumn(\"rank\", dense_rank().over(rank_window))\n",
    "    .filter(col(\"rank\") == 1)\n",
    "    .orderBy(col(\"score\").desc())\n",
    "    .limit(1)\n",
    ")\n",
    "\n",
    "best_team_score.show()"
   ]
  }
 ],
 "metadata": {
  "kernelspec": {
   "display_name": "Python 3 (ipykernel)",
   "language": "python",
   "name": "python3"
  },
  "language_info": {
   "codemirror_mode": {
    "name": "ipython",
    "version": 3
   },
   "file_extension": ".py",
   "mimetype": "text/x-python",
   "name": "python",
   "nbconvert_exporter": "python",
   "pygments_lexer": "ipython3",
   "version": "3.12.3"
  }
 },
 "nbformat": 4,
 "nbformat_minor": 5
}
